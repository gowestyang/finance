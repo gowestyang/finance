{
 "cells": [
  {
   "cell_type": "code",
   "execution_count": 1,
   "metadata": {},
   "outputs": [],
   "source": [
    "import backtrader as bt\n",
    "import btoandav20 as bto\n",
    "import json"
   ]
  },
  {
   "cell_type": "code",
   "execution_count": 2,
   "metadata": {},
   "outputs": [
    {
     "data": {
      "text/plain": [
       "<btoandav20.brokers.oandav20broker.OandaV20Broker at 0x7f8513cddbb0>"
      ]
     },
     "execution_count": 2,
     "metadata": {},
     "output_type": "execute_result"
    }
   ],
   "source": [
    "storekwargs = dict(\n",
    "    token='b765c1ffaf6594b3e8159c824017f77c-05521b6b0337f73391057d810f8c3727',\n",
    "    account='101-003-22974849-001',\n",
    "    practice=True,\n",
    "    notif_transactions=True,\n",
    "    stream_timeout=10,\n",
    ")\n",
    "store = bto.stores.OandaV20Store(**storekwargs)\n",
    "\n",
    "datakwargs = dict(\n",
    "    timeframe=bt.TimeFrame.Minutes,\n",
    "    compression=1,\n",
    "    tz='Europe/Berlin',\n",
    "    backfill=False,\n",
    "    backfill_start=False,\n",
    ")\n",
    "data = store.getdata(dataname=\"EUR_USD\", **datakwargs)\n",
    "\n",
    "data.resample(\n",
    "    timeframe=bt.TimeFrame.Minutes,\n",
    "    compression=1)  # rightedge=True, boundoff=1)\n",
    "\n",
    "cerebro = bt.Cerebro()\n",
    "cerebro.adddata(data)\n",
    "cerebro.setbroker(store.getbroker())\n"
   ]
  },
  {
   "cell_type": "code",
   "execution_count": 3,
   "metadata": {},
   "outputs": [],
   "source": [
    "class St(bt.Strategy):\n",
    "\n",
    "    def __init__(self):\n",
    "        self.order = None\n",
    "        self.mybuysignals = {\n",
    "            \"buysignal1\": False,\n",
    "            \"buysignal2\": False,\n",
    "            \"buysignal3\": False,\n",
    "            \"buysignal4\": True,\n",
    "            \"buysignal5\": False,\n",
    "\n",
    "        }\n",
    "\n",
    "    def notify_store(self, msg, *args, **kwargs):\n",
    "        print(type(msg))\n",
    "        print(msg)\n",
    "        #if \"clientExtensions\" in msg:\n",
    "        #    o_info = json.loads(msg[\"clientExtensions\"][\"comment\"])\n",
    "        #    buytrigger = o_info[\"buytrigger\"]\n",
    "\n",
    "    def next(self):\n",
    "        if self.order:\n",
    "            return\n",
    "\n",
    "        for k, v in self.mybuysignals.items():\n",
    "            if v:\n",
    "                self.order = self.buy(\n",
    "                    size=1,\n",
    "                    buytrigger=k\n",
    "                    )\n"
   ]
  },
  {
   "cell_type": "code",
   "execution_count": 4,
   "metadata": {},
   "outputs": [
    {
     "name": "stdout",
     "output_type": "stream",
     "text": [
      "<class 'str'>\n",
      "{'id': '22', 'time': '1679197682.608654429', 'userID': 22974849, 'accountID': '101-003-22974849-001', 'batchID': '22', 'requestID': '61086261085660053', 'type': 'MARKET_ORDER', 'instrument': 'EUR_USD', 'units': '1.0', 'timeInForce': 'FOK', 'positionFill': 'DEFAULT', 'reason': 'CLIENT_ORDER', 'clientExtensions': {'id': '1679197678.973387-1', 'comment': '{\"buytrigger\": \"buysignal4\"}'}}\n",
      "<class 'str'>\n",
      "{'id': '23', 'time': '1679197682.608654429', 'userID': 22974849, 'accountID': '101-003-22974849-001', 'batchID': '22', 'requestID': '61086261085660053', 'type': 'ORDER_CANCEL', 'orderID': '22', 'clientOrderID': '1679197678.973387-1', 'reason': 'MARKET_HALTED'}\n"
     ]
    },
    {
     "ename": "KeyboardInterrupt",
     "evalue": "",
     "output_type": "error",
     "traceback": [
      "\u001b[0;31m---------------------------------------------------------------------------\u001b[0m",
      "\u001b[0;31mKeyboardInterrupt\u001b[0m                         Traceback (most recent call last)",
      "Cell \u001b[0;32mIn[4], line 2\u001b[0m\n\u001b[1;32m      1\u001b[0m cerebro\u001b[39m.\u001b[39maddstrategy(St)\n\u001b[0;32m----> 2\u001b[0m cerebro\u001b[39m.\u001b[39;49mrun()\n",
      "File \u001b[0;32m~/opt/anaconda3/envs/backtrader-py38/lib/python3.8/site-packages/backtrader/cerebro.py:1127\u001b[0m, in \u001b[0;36mCerebro.run\u001b[0;34m(self, **kwargs)\u001b[0m\n\u001b[1;32m   1123\u001b[0m \u001b[39mif\u001b[39;00m \u001b[39mnot\u001b[39;00m \u001b[39mself\u001b[39m\u001b[39m.\u001b[39m_dooptimize \u001b[39mor\u001b[39;00m \u001b[39mself\u001b[39m\u001b[39m.\u001b[39mp\u001b[39m.\u001b[39mmaxcpus \u001b[39m==\u001b[39m \u001b[39m1\u001b[39m:\n\u001b[1;32m   1124\u001b[0m     \u001b[39m# If no optimmization is wished ... or 1 core is to be used\u001b[39;00m\n\u001b[1;32m   1125\u001b[0m     \u001b[39m# let's skip process \"spawning\"\u001b[39;00m\n\u001b[1;32m   1126\u001b[0m     \u001b[39mfor\u001b[39;00m iterstrat \u001b[39min\u001b[39;00m iterstrats:\n\u001b[0;32m-> 1127\u001b[0m         runstrat \u001b[39m=\u001b[39m \u001b[39mself\u001b[39;49m\u001b[39m.\u001b[39;49mrunstrategies(iterstrat)\n\u001b[1;32m   1128\u001b[0m         \u001b[39mself\u001b[39m\u001b[39m.\u001b[39mrunstrats\u001b[39m.\u001b[39mappend(runstrat)\n\u001b[1;32m   1129\u001b[0m         \u001b[39mif\u001b[39;00m \u001b[39mself\u001b[39m\u001b[39m.\u001b[39m_dooptimize:\n",
      "File \u001b[0;32m~/opt/anaconda3/envs/backtrader-py38/lib/python3.8/site-packages/backtrader/cerebro.py:1298\u001b[0m, in \u001b[0;36mCerebro.runstrategies\u001b[0;34m(self, iterstrat, predata)\u001b[0m\n\u001b[1;32m   1296\u001b[0m         \u001b[39mself\u001b[39m\u001b[39m.\u001b[39m_runnext_old(runstrats)\n\u001b[1;32m   1297\u001b[0m     \u001b[39melse\u001b[39;00m:\n\u001b[0;32m-> 1298\u001b[0m         \u001b[39mself\u001b[39;49m\u001b[39m.\u001b[39;49m_runnext(runstrats)\n\u001b[1;32m   1300\u001b[0m \u001b[39mfor\u001b[39;00m strat \u001b[39min\u001b[39;00m runstrats:\n\u001b[1;32m   1301\u001b[0m     strat\u001b[39m.\u001b[39m_stop()\n",
      "File \u001b[0;32m~/opt/anaconda3/envs/backtrader-py38/lib/python3.8/site-packages/backtrader/cerebro.py:1542\u001b[0m, in \u001b[0;36mCerebro._runnext\u001b[0;34m(self, runstrats)\u001b[0m\n\u001b[1;32m   1540\u001b[0m     qlapse \u001b[39m=\u001b[39m datetime\u001b[39m.\u001b[39mdatetime\u001b[39m.\u001b[39mutcnow() \u001b[39m-\u001b[39m qstart\n\u001b[1;32m   1541\u001b[0m     d\u001b[39m.\u001b[39mdo_qcheck(newqcheck, qlapse\u001b[39m.\u001b[39mtotal_seconds())\n\u001b[0;32m-> 1542\u001b[0m     drets\u001b[39m.\u001b[39mappend(d\u001b[39m.\u001b[39;49mnext(ticks\u001b[39m=\u001b[39;49m\u001b[39mFalse\u001b[39;49;00m))\n\u001b[1;32m   1544\u001b[0m d0ret \u001b[39m=\u001b[39m \u001b[39many\u001b[39m((dret \u001b[39mfor\u001b[39;00m dret \u001b[39min\u001b[39;00m drets))\n\u001b[1;32m   1545\u001b[0m \u001b[39mif\u001b[39;00m \u001b[39mnot\u001b[39;00m d0ret \u001b[39mand\u001b[39;00m \u001b[39many\u001b[39m((dret \u001b[39mis\u001b[39;00m \u001b[39mNone\u001b[39;00m \u001b[39mfor\u001b[39;00m dret \u001b[39min\u001b[39;00m drets)):\n",
      "File \u001b[0;32m~/opt/anaconda3/envs/backtrader-py38/lib/python3.8/site-packages/backtrader/feed.py:407\u001b[0m, in \u001b[0;36mAbstractDataBase.next\u001b[0;34m(self, datamaster, ticks)\u001b[0m\n\u001b[1;32m    404\u001b[0m     \u001b[39mself\u001b[39m\u001b[39m.\u001b[39m_tick_nullify()\n\u001b[1;32m    406\u001b[0m \u001b[39m# not preloaded - request next bar\u001b[39;00m\n\u001b[0;32m--> 407\u001b[0m ret \u001b[39m=\u001b[39m \u001b[39mself\u001b[39;49m\u001b[39m.\u001b[39;49mload()\n\u001b[1;32m    408\u001b[0m \u001b[39mif\u001b[39;00m \u001b[39mnot\u001b[39;00m ret:\n\u001b[1;32m    409\u001b[0m     \u001b[39m# if load cannot produce bars - forward the result\u001b[39;00m\n\u001b[1;32m    410\u001b[0m     \u001b[39mreturn\u001b[39;00m ret\n",
      "File \u001b[0;32m~/opt/anaconda3/envs/backtrader-py38/lib/python3.8/site-packages/backtrader/feed.py:479\u001b[0m, in \u001b[0;36mAbstractDataBase.load\u001b[0;34m(self)\u001b[0m\n\u001b[1;32m    476\u001b[0m     \u001b[39mreturn\u001b[39;00m \u001b[39mTrue\u001b[39;00m\n\u001b[1;32m    478\u001b[0m \u001b[39mif\u001b[39;00m \u001b[39mnot\u001b[39;00m \u001b[39mself\u001b[39m\u001b[39m.\u001b[39m_fromstack(stash\u001b[39m=\u001b[39m\u001b[39mTrue\u001b[39;00m):\n\u001b[0;32m--> 479\u001b[0m     _loadret \u001b[39m=\u001b[39m \u001b[39mself\u001b[39;49m\u001b[39m.\u001b[39;49m_load()\n\u001b[1;32m    480\u001b[0m     \u001b[39mif\u001b[39;00m \u001b[39mnot\u001b[39;00m _loadret:  \u001b[39m# no bar use force to make sure in exactbars\u001b[39;00m\n\u001b[1;32m    481\u001b[0m         \u001b[39m# the pointer is undone this covers especially (but not\u001b[39;00m\n\u001b[1;32m    482\u001b[0m         \u001b[39m# uniquely) the case in which the last bar has been seen\u001b[39;00m\n\u001b[1;32m    483\u001b[0m         \u001b[39m# and a backwards would ruin pointer accounting in the\u001b[39;00m\n\u001b[1;32m    484\u001b[0m         \u001b[39m# \"stop\" method of the strategy\u001b[39;00m\n\u001b[1;32m    485\u001b[0m         \u001b[39mself\u001b[39m\u001b[39m.\u001b[39mbackwards(force\u001b[39m=\u001b[39m\u001b[39mTrue\u001b[39;00m)  \u001b[39m# undo data pointer\u001b[39;00m\n",
      "File \u001b[0;32m~/opt/anaconda3/envs/backtrader-py38/lib/python3.8/site-packages/btoandav20/feeds/oandav20feed.py:398\u001b[0m, in \u001b[0;36mOandaV20Data._load\u001b[0;34m(self)\u001b[0m\n\u001b[1;32m    395\u001b[0m \u001b[39mif\u001b[39;00m \u001b[39mself\u001b[39m\u001b[39m.\u001b[39m_state \u001b[39m==\u001b[39m \u001b[39mself\u001b[39m\u001b[39m.\u001b[39m_ST_LIVE:\n\u001b[1;32m    396\u001b[0m     \u001b[39mtry\u001b[39;00m:\n\u001b[1;32m    397\u001b[0m         msg \u001b[39m=\u001b[39m (\u001b[39mself\u001b[39m\u001b[39m.\u001b[39m_storedmsg\u001b[39m.\u001b[39mpop(\u001b[39mNone\u001b[39;00m, \u001b[39mNone\u001b[39;00m) \u001b[39mor\u001b[39;00m\n\u001b[0;32m--> 398\u001b[0m                \u001b[39mself\u001b[39;49m\u001b[39m.\u001b[39;49mqlive\u001b[39m.\u001b[39;49mget(timeout\u001b[39m=\u001b[39;49m\u001b[39mself\u001b[39;49m\u001b[39m.\u001b[39;49m_qcheck))\n\u001b[1;32m    399\u001b[0m     \u001b[39mexcept\u001b[39;00m queue\u001b[39m.\u001b[39mEmpty:\n\u001b[1;32m    400\u001b[0m         \u001b[39mreturn\u001b[39;00m \u001b[39mNone\u001b[39;00m\n",
      "File \u001b[0;32m~/opt/anaconda3/envs/backtrader-py38/lib/python3.8/queue.py:179\u001b[0m, in \u001b[0;36mQueue.get\u001b[0;34m(self, block, timeout)\u001b[0m\n\u001b[1;32m    177\u001b[0m         \u001b[39mif\u001b[39;00m remaining \u001b[39m<\u001b[39m\u001b[39m=\u001b[39m \u001b[39m0.0\u001b[39m:\n\u001b[1;32m    178\u001b[0m             \u001b[39mraise\u001b[39;00m Empty\n\u001b[0;32m--> 179\u001b[0m         \u001b[39mself\u001b[39;49m\u001b[39m.\u001b[39;49mnot_empty\u001b[39m.\u001b[39;49mwait(remaining)\n\u001b[1;32m    180\u001b[0m item \u001b[39m=\u001b[39m \u001b[39mself\u001b[39m\u001b[39m.\u001b[39m_get()\n\u001b[1;32m    181\u001b[0m \u001b[39mself\u001b[39m\u001b[39m.\u001b[39mnot_full\u001b[39m.\u001b[39mnotify()\n",
      "File \u001b[0;32m~/opt/anaconda3/envs/backtrader-py38/lib/python3.8/threading.py:306\u001b[0m, in \u001b[0;36mCondition.wait\u001b[0;34m(self, timeout)\u001b[0m\n\u001b[1;32m    304\u001b[0m \u001b[39melse\u001b[39;00m:\n\u001b[1;32m    305\u001b[0m     \u001b[39mif\u001b[39;00m timeout \u001b[39m>\u001b[39m \u001b[39m0\u001b[39m:\n\u001b[0;32m--> 306\u001b[0m         gotit \u001b[39m=\u001b[39m waiter\u001b[39m.\u001b[39;49macquire(\u001b[39mTrue\u001b[39;49;00m, timeout)\n\u001b[1;32m    307\u001b[0m     \u001b[39melse\u001b[39;00m:\n\u001b[1;32m    308\u001b[0m         gotit \u001b[39m=\u001b[39m waiter\u001b[39m.\u001b[39macquire(\u001b[39mFalse\u001b[39;00m)\n",
      "\u001b[0;31mKeyboardInterrupt\u001b[0m: "
     ]
    }
   ],
   "source": [
    "cerebro.addstrategy(St)\n",
    "cerebro.run()"
   ]
  },
  {
   "cell_type": "code",
   "execution_count": null,
   "metadata": {},
   "outputs": [],
   "source": []
  },
  {
   "cell_type": "code",
   "execution_count": null,
   "metadata": {},
   "outputs": [],
   "source": []
  }
 ],
 "metadata": {
  "kernelspec": {
   "display_name": "backtrader-py38",
   "language": "python",
   "name": "python3"
  },
  "language_info": {
   "codemirror_mode": {
    "name": "ipython",
    "version": 3
   },
   "file_extension": ".py",
   "mimetype": "text/x-python",
   "name": "python",
   "nbconvert_exporter": "python",
   "pygments_lexer": "ipython3",
   "version": "3.8.16"
  },
  "orig_nbformat": 4
 },
 "nbformat": 4,
 "nbformat_minor": 2
}
