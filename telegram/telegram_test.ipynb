{
 "cells": [
  {
   "cell_type": "code",
   "execution_count": 1,
   "metadata": {},
   "outputs": [],
   "source": [
    "import logging\n",
    "import requests\n",
    "from aiogram import Bot, Dispatcher, executor, types\n",
    "\n",
    "logging.basicConfig(level=logging.INFO)\n",
    "\n",
    "API_TOKEN = '6252951396:AAHAYGHvDR_r1TKmC1x9Exxs93ygYJf8sPU'\n",
    "CHAT_ID = '2069686152'"
   ]
  },
  {
   "cell_type": "code",
   "execution_count": 18,
   "metadata": {},
   "outputs": [
    {
     "data": {
      "text/plain": [
       "'2023-03-23 11:39:57'"
      ]
     },
     "execution_count": 18,
     "metadata": {},
     "output_type": "execute_result"
    }
   ],
   "source": [
    "import time\n",
    "\n",
    "#time.sleep(5)\n",
    "\n",
    "\n",
    "t = time.strftime('%Y-%m-%d %H:%M:%S', time.localtime())"
   ]
  },
  {
   "attachments": {},
   "cell_type": "markdown",
   "metadata": {},
   "source": [
    "### Get chat_id\n",
    "\n",
    "send a message to the bot right before running this cell"
   ]
  },
  {
   "cell_type": "code",
   "execution_count": 4,
   "metadata": {},
   "outputs": [
    {
     "data": {
      "text/plain": [
       "{'ok': True,\n",
       " 'result': [{'update_id': 282984805,\n",
       "   'message': {'message_id': 8,\n",
       "    'from': {'id': 2069686152,\n",
       "     'is_bot': False,\n",
       "     'first_name': 'Yang Xi',\n",
       "     'language_code': 'en'},\n",
       "    'chat': {'id': 2069686152, 'first_name': 'Yang Xi', 'type': 'private'},\n",
       "    'date': 1679306017,\n",
       "    'text': 'New'}}]}"
      ]
     },
     "execution_count": 4,
     "metadata": {},
     "output_type": "execute_result"
    }
   ],
   "source": [
    "url = f\"https://api.telegram.org/bot{API_TOKEN}/getUpdates\"\n",
    "requests.get(url).json()"
   ]
  },
  {
   "attachments": {},
   "cell_type": "markdown",
   "metadata": {},
   "source": [
    "### Send a message to the bot"
   ]
  },
  {
   "cell_type": "code",
   "execution_count": 2,
   "metadata": {},
   "outputs": [
    {
     "data": {
      "text/plain": [
       "{'ok': True,\n",
       " 'result': {'message_id': 9,\n",
       "  'from': {'id': 6252951396,\n",
       "   'is_bot': True,\n",
       "   'first_name': 'yangxibot',\n",
       "   'username': 'yangxi_2023_bot'},\n",
       "  'chat': {'id': 2069686152, 'first_name': 'Yang Xi', 'type': 'private'},\n",
       "  'date': 1679306274,\n",
       "  'text': 'A message from python!'}}"
      ]
     },
     "execution_count": 2,
     "metadata": {},
     "output_type": "execute_result"
    }
   ],
   "source": [
    "message = \"A message from python!\"\n",
    "url = f\"https://api.telegram.org/bot{API_TOKEN}/sendMessage?chat_id={CHAT_ID}&text={message}\"\n",
    "\n",
    "requests.get(url).json()"
   ]
  },
  {
   "attachments": {},
   "cell_type": "markdown",
   "metadata": {},
   "source": [
    "### Some IPv6 issue\n",
    "\n",
    "`$ sudo sysctl -w net.ipv6.conf.all.disable_ipv6=1`\n",
    "\n",
    "`$ sudo sysctl -w net.ipv6.conf.default.disable_ipv6=1`"
   ]
  },
  {
   "cell_type": "code",
   "execution_count": null,
   "metadata": {},
   "outputs": [],
   "source": []
  },
  {
   "cell_type": "code",
   "execution_count": null,
   "metadata": {},
   "outputs": [],
   "source": []
  },
  {
   "attachments": {},
   "cell_type": "markdown",
   "metadata": {},
   "source": []
  },
  {
   "cell_type": "code",
   "execution_count": null,
   "metadata": {},
   "outputs": [],
   "source": []
  },
  {
   "cell_type": "code",
   "execution_count": null,
   "metadata": {},
   "outputs": [],
   "source": []
  },
  {
   "cell_type": "code",
   "execution_count": null,
   "metadata": {},
   "outputs": [],
   "source": []
  }
 ],
 "metadata": {
  "kernelspec": {
   "display_name": "telegram-py38",
   "language": "python",
   "name": "python3"
  },
  "language_info": {
   "codemirror_mode": {
    "name": "ipython",
    "version": 3
   },
   "file_extension": ".py",
   "mimetype": "text/x-python",
   "name": "python",
   "nbconvert_exporter": "python",
   "pygments_lexer": "ipython3",
   "version": "3.8.16"
  },
  "orig_nbformat": 4
 },
 "nbformat": 4,
 "nbformat_minor": 2
}
