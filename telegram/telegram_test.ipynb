{
 "cells": [
  {
   "cell_type": "code",
   "execution_count": 1,
   "metadata": {},
   "outputs": [],
   "source": [
    "import logging\n",
    "\n",
    "from aiogram import Bot, Dispatcher, executor, types\n",
    "\n",
    "logging.basicConfig(level=logging.INFO)\n",
    "\n",
    "API_TOKEN = '5976951820:AAG0pFZC9-y5DjEKcmQAQ3MtTT-u96jvnjI'"
   ]
  },
  {
   "cell_type": "code",
   "execution_count": 2,
   "metadata": {},
   "outputs": [],
   "source": [
    "# Initialize bot and dispatcher\n",
    "bot = Bot(token=API_TOKEN)\n",
    "dp = Dispatcher(bot)\n"
   ]
  },
  {
   "cell_type": "code",
   "execution_count": null,
   "metadata": {},
   "outputs": [],
   "source": []
  },
  {
   "cell_type": "code",
   "execution_count": null,
   "metadata": {},
   "outputs": [],
   "source": [
    "\n",
    "CHAT_ID = '2069686152'\n",
    "\n",
    "# Function at start the bot\n",
    "async def on_startup(dp):\n",
    "    await bot.send_message(chat_id=CHAT_ID, text=\"Hello! Bot has been started.\")\n",
    "\n",
    "# Function at stop the bot\n",
    "async def on_shutdown(dp):\n",
    "    await bot.send_message(chat_id=CHAT_ID, text=\"Bot has been stopped. Goodbye!\")\n",
    "\n",
    "\n",
    "if __name__ == '__main__':\n",
    "\n",
    "    executor.start_polling(dp, skip_updates=True, on_startup=on_startup, on_shutdown=on_shutdown)"
   ]
  },
  {
   "attachments": {},
   "cell_type": "markdown",
   "metadata": {},
   "source": [
    "$ sudo sysctl -w net.ipv6.conf.all.disable_ipv6=1\n",
    "$ sudo sysctl -w net.ipv6.conf.default.disable_ipv6=1"
   ]
  },
  {
   "cell_type": "code",
   "execution_count": null,
   "metadata": {},
   "outputs": [],
   "source": []
  },
  {
   "cell_type": "code",
   "execution_count": null,
   "metadata": {},
   "outputs": [],
   "source": []
  },
  {
   "cell_type": "code",
   "execution_count": null,
   "metadata": {},
   "outputs": [],
   "source": [
    "import logging\n",
    "import asyncio\n",
    "from aiogram import Bot, Dispatcher, types\n",
    "from aiogram.contrib.middlewares.logging import LoggingMiddleware\n",
    "from aiogram.types import ParseMode\n",
    "from aiogram.utils import executor\n",
    "\n",
    "API_TOKEN = 'your_bot_token'\n",
    "\n",
    "logging.basicConfig(level=logging.INFO)\n",
    "\n",
    "# Initialize bot and dispatcher\n",
    "bot = Bot(token=API_TOKEN)\n",
    "dp = Dispatcher(bot)\n",
    "dp.middleware.setup(LoggingMiddleware())\n",
    "\n",
    "# Command handlers\n",
    "@dp.message_handler(commands=['start', 'help'])\n",
    "async def send_welcome(message: types.Message):\n",
    "    await message.reply(\"Hi! I'm an asynchronous Telegram bot.\\n\\nSend me any message and I'll echo it back to you!\")\n",
    "\n",
    "@dp.message_handler()\n",
    "async def echo(message: types.Message):\n",
    "    await message.reply(f\"You said: {message.text}\", parse_mode=ParseMode.HTML)\n",
    "\n",
    "# Function to start the bot\n",
    "async def on_startup(dp):\n",
    "    await bot.send_message(chat_id=YOUR_CHAT_ID, text=\"Bot has been started\")\n",
    "\n",
    "# Function to stop the bot\n",
    "async def on_shutdown(dp):\n",
    "    await bot.send_message(chat_id=YOUR_CHAT_ID, text=\"Bot has been stopped\")\n",
    "\n",
    "    # Close bot\n",
    "    await bot.close()\n",
    "\n",
    "if __name__ == '__main__':\n",
    "    from aiogram import executor\n",
    "    executor.start_polling(dp, on_startup=on_startup, on_shutdown=on_shutdown)\n"
   ]
  },
  {
   "cell_type": "code",
   "execution_count": null,
   "metadata": {},
   "outputs": [],
   "source": []
  }
 ],
 "metadata": {
  "kernelspec": {
   "display_name": "telegram-py38",
   "language": "python",
   "name": "python3"
  },
  "language_info": {
   "codemirror_mode": {
    "name": "ipython",
    "version": 3
   },
   "file_extension": ".py",
   "mimetype": "text/x-python",
   "name": "python",
   "nbconvert_exporter": "python",
   "pygments_lexer": "ipython3",
   "version": "3.8.16"
  },
  "orig_nbformat": 4
 },
 "nbformat": 4,
 "nbformat_minor": 2
}
